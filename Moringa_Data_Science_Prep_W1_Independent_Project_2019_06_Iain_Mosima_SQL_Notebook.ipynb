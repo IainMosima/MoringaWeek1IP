{
  "nbformat": 4,
  "nbformat_minor": 0,
  "metadata": {
    "colab": {
      "name": "Moringa_Data_Science_Prep_W1_Independent_Project_2019_06_Iain_Mosima_SQL_Notebook.ipynb",
      "provenance": []
    },
    "kernelspec": {
      "name": "python3",
      "display_name": "Python 3"
    },
    "language_info": {
      "name": "python"
    }
  },
  "cells": [
    {
      "cell_type": "code",
      "metadata": {
        "id": "DyblTFmuJNgi",
        "colab": {
          "base_uri": "https://localhost:8080/",
          "height": 69
        },
        "outputId": "e0eb35db-30a2-4165-c1dd-d7c5d9839ea6"
      },
      "source": [
        "# First load the sql extension into the environment\n",
        "%load_ext sql\n",
        "# connect to the sqlite database\n",
        "%sql sqlite://\n"
      ],
      "execution_count": 53,
      "outputs": [
        {
          "output_type": "stream",
          "text": [
            "The sql extension is already loaded. To reload it, use:\n",
            "  %reload_ext sql\n"
          ],
          "name": "stdout"
        },
        {
          "output_type": "execute_result",
          "data": {
            "application/vnd.google.colaboratory.intrinsic+json": {
              "type": "string"
            },
            "text/plain": [
              "'Connected: @None'"
            ]
          },
          "metadata": {
            "tags": []
          },
          "execution_count": 53
        }
      ]
    },
    {
      "cell_type": "code",
      "metadata": {
        "id": "zb-y99MkKUBU"
      },
      "source": [
        "# import pandas and csv\n",
        "import csv\n",
        "import pandas as pd"
      ],
      "execution_count": null,
      "outputs": []
    },
    {
      "cell_type": "code",
      "metadata": {
        "colab": {
          "base_uri": "https://localhost:8080/",
          "height": 52
        },
        "id": "KX44Kk1XKfXN",
        "outputId": "c13602ea-d44c-45c0-93c6-701bf7477e3c"
      },
      "source": [
        "# load the table\n",
        "with open('/Uganda_Karamoja_Subcounty_Crop_Yield_Population.csv','r') as f:\n",
        "      crops_grown_in_uganda = pd.read_csv(f, index_col=0, encoding='utf-8')\n",
        "# store the values in the table\n",
        "%sql PERSIST crops_grown_in_uganda;  \n"
      ],
      "execution_count": null,
      "outputs": [
        {
          "output_type": "stream",
          "text": [
            " * sqlite://\n"
          ],
          "name": "stdout"
        },
        {
          "output_type": "execute_result",
          "data": {
            "application/vnd.google.colaboratory.intrinsic+json": {
              "type": "string"
            },
            "text/plain": [
              "'Persisted crops_grown_in_uganda'"
            ]
          },
          "metadata": {
            "tags": []
          },
          "execution_count": 14
        }
      ]
    },
    {
      "cell_type": "code",
      "metadata": {
        "colab": {
          "base_uri": "https://localhost:8080/",
          "height": 169
        },
        "id": "2SGin9z6LwFE",
        "outputId": "36e4eef8-f761-45a3-a755-baf35772d290"
      },
      "source": [
        "%%sql\n",
        "SELECT * FROM crops_grown_in_uganda LIMIT 3;"
      ],
      "execution_count": null,
      "outputs": [
        {
          "output_type": "stream",
          "text": [
            " * sqlite://\n",
            "Done.\n"
          ],
          "name": "stdout"
        },
        {
          "output_type": "execute_result",
          "data": {
            "text/html": [
              "<table>\n",
              "    <thead>\n",
              "        <tr>\n",
              "            <th>OBJECTID</th>\n",
              "            <th>SUBCOUNTY_NAME</th>\n",
              "            <th>DISTRICT_NAME</th>\n",
              "            <th>POP</th>\n",
              "            <th>Area</th>\n",
              "            <th>Karamoja</th>\n",
              "            <th>S_Yield_Ha</th>\n",
              "            <th>M_Yield_Ha</th>\n",
              "            <th>Crop_Area_Ha</th>\n",
              "            <th>S_Area_Ha</th>\n",
              "            <th>M_Area_Ha</th>\n",
              "            <th>S_Prod_Tot</th>\n",
              "            <th>M_Prod_Tot</th>\n",
              "        </tr>\n",
              "    </thead>\n",
              "    <tbody>\n",
              "        <tr>\n",
              "            <td>263</td>\n",
              "            <td>KACHERI</td>\n",
              "            <td>KOTIDO</td>\n",
              "            <td>17244</td>\n",
              "            <td>1067176155</td>\n",
              "            <td>Y</td>\n",
              "            <td>354.20741069999997</td>\n",
              "            <td>1137.467019</td>\n",
              "            <td>7023.533691</td>\n",
              "            <td>6434.342449</td>\n",
              "            <td>528.1242294</td>\n",
              "            <td>2279091.779</td>\n",
              "            <td>600723.8929</td>\n",
              "        </tr>\n",
              "        <tr>\n",
              "            <td>264</td>\n",
              "            <td>KOTIDO</td>\n",
              "            <td>KOTIDO</td>\n",
              "            <td>52771</td>\n",
              "            <td>597575188</td>\n",
              "            <td>Y</td>\n",
              "            <td>367.89052319999996</td>\n",
              "            <td>1162.9966869999998</td>\n",
              "            <td>13587.990759999999</td>\n",
              "            <td>12455.59264</td>\n",
              "            <td>824.7670809</td>\n",
              "            <td>4582294.492</td>\n",
              "            <td>959201.3825</td>\n",
              "        </tr>\n",
              "        <tr>\n",
              "            <td>265</td>\n",
              "            <td>KOTIDO TOWN COUNCIL</td>\n",
              "            <td>KOTIDO</td>\n",
              "            <td>27389</td>\n",
              "            <td>23972401</td>\n",
              "            <td>Y</td>\n",
              "            <td>369.3141771</td>\n",
              "            <td>1167.005832</td>\n",
              "            <td>1656.5318550000002</td>\n",
              "            <td>1520.322052</td>\n",
              "            <td>8.561643817</td>\n",
              "            <td>561476.4874</td>\n",
              "            <td>9991.488268000001</td>\n",
              "        </tr>\n",
              "    </tbody>\n",
              "</table>"
            ],
            "text/plain": [
              "[(263, 'KACHERI', 'KOTIDO', 17244, 1067176155, 'Y', 354.20741069999997, 1137.467019, 7023.533691, 6434.342449, 528.1242294, 2279091.779, 600723.8929),\n",
              " (264, 'KOTIDO', 'KOTIDO', 52771, 597575188, 'Y', 367.89052319999996, 1162.9966869999998, 13587.990759999999, 12455.59264, 824.7670809, 4582294.492, 959201.3825),\n",
              " (265, 'KOTIDO TOWN COUNCIL', 'KOTIDO', 27389, 23972401, 'Y', 369.3141771, 1167.005832, 1656.5318550000002, 1520.322052, 8.561643817, 561476.4874, 9991.488268000001)]"
            ]
          },
          "metadata": {
            "tags": []
          },
          "execution_count": 15
        }
      ]
    },
    {
      "cell_type": "code",
      "metadata": {
        "colab": {
          "base_uri": "https://localhost:8080/",
          "height": 132
        },
        "id": "gNtRNEjnMpws",
        "outputId": "6a6601c0-241b-4cd7-8ad0-03a5f9e1167d"
      },
      "source": [
        "# Display a list of Sub Counties and their population and areas.\n",
        "%%sql\n",
        "SELECT \"SUBCOUNTY_NAME\", \"POP\" , \"Area\" FROM crops_grown_in_uganda LIMIT 3;"
      ],
      "execution_count": null,
      "outputs": [
        {
          "output_type": "stream",
          "text": [
            " * sqlite://\n",
            "Done.\n"
          ],
          "name": "stdout"
        },
        {
          "output_type": "execute_result",
          "data": {
            "text/html": [
              "<table>\n",
              "    <thead>\n",
              "        <tr>\n",
              "            <th>SUBCOUNTY_NAME</th>\n",
              "            <th>POP</th>\n",
              "            <th>Area</th>\n",
              "        </tr>\n",
              "    </thead>\n",
              "    <tbody>\n",
              "        <tr>\n",
              "            <td>KACHERI</td>\n",
              "            <td>17244</td>\n",
              "            <td>1067176155</td>\n",
              "        </tr>\n",
              "        <tr>\n",
              "            <td>KOTIDO</td>\n",
              "            <td>52771</td>\n",
              "            <td>597575188</td>\n",
              "        </tr>\n",
              "        <tr>\n",
              "            <td>KOTIDO TOWN COUNCIL</td>\n",
              "            <td>27389</td>\n",
              "            <td>23972401</td>\n",
              "        </tr>\n",
              "    </tbody>\n",
              "</table>"
            ],
            "text/plain": [
              "[('KACHERI', 17244, 1067176155),\n",
              " ('KOTIDO', 52771, 597575188),\n",
              " ('KOTIDO TOWN COUNCIL', 27389, 23972401)]"
            ]
          },
          "metadata": {
            "tags": []
          },
          "execution_count": 17
        }
      ]
    },
    {
      "cell_type": "code",
      "metadata": {
        "colab": {
          "base_uri": "https://localhost:8080/",
          "height": 202
        },
        "id": "OKN3b3TuNdMu",
        "outputId": "68aebbd0-3fda-4ec1-b389-df81267dd700"
      },
      "source": [
        "# Sort the list of districts by total crop area (descending order).\n",
        "%%sql\n",
        "SELECT * FROM crops_grown_in_uganda\n",
        "ORDER BY Area ASC LIMIT 3;"
      ],
      "execution_count": null,
      "outputs": [
        {
          "output_type": "stream",
          "text": [
            " * sqlite://\n",
            "Done.\n"
          ],
          "name": "stdout"
        },
        {
          "output_type": "execute_result",
          "data": {
            "text/html": [
              "<table>\n",
              "    <thead>\n",
              "        <tr>\n",
              "            <th>OBJECTID</th>\n",
              "            <th>SUBCOUNTY_NAME</th>\n",
              "            <th>DISTRICT_NAME</th>\n",
              "            <th>POP</th>\n",
              "            <th>Area</th>\n",
              "            <th>Karamoja</th>\n",
              "            <th>S_Yield_Ha</th>\n",
              "            <th>M_Yield_Ha</th>\n",
              "            <th>Crop_Area_Ha</th>\n",
              "            <th>S_Area_Ha</th>\n",
              "            <th>M_Area_Ha</th>\n",
              "            <th>S_Prod_Tot</th>\n",
              "            <th>M_Prod_Tot</th>\n",
              "        </tr>\n",
              "    </thead>\n",
              "    <tbody>\n",
              "        <tr>\n",
              "            <td>929</td>\n",
              "            <td>SOUTHERN DIVISION</td>\n",
              "            <td>MOROTO</td>\n",
              "            <td>3272</td>\n",
              "            <td>2121209</td>\n",
              "            <td>Y</td>\n",
              "            <td>114.7955689</td>\n",
              "            <td>0.0</td>\n",
              "            <td>0.17139046100000002</td>\n",
              "            <td>0.17139046100000002</td>\n",
              "            <td>0.0</td>\n",
              "            <td>19.67486547</td>\n",
              "            <td>0.0</td>\n",
              "        </tr>\n",
              "        <tr>\n",
              "            <td>928</td>\n",
              "            <td>NORTHERN DIVISION</td>\n",
              "            <td>MOROTO</td>\n",
              "            <td>7161</td>\n",
              "            <td>2738777</td>\n",
              "            <td>Y</td>\n",
              "            <td>131.9776979</td>\n",
              "            <td>241.53842680000002</td>\n",
              "            <td>0.322315707</td>\n",
              "            <td>0.130940756</td>\n",
              "            <td>0.19137495100000002</td>\n",
              "            <td>17.28125956</td>\n",
              "            <td>46.22440465</td>\n",
              "        </tr>\n",
              "        <tr>\n",
              "            <td>979</td>\n",
              "            <td>NAKAPIRIPIRIT TOWN COUNCIL</td>\n",
              "            <td>NAKAPIRIPIRIT</td>\n",
              "            <td>1418</td>\n",
              "            <td>4673094</td>\n",
              "            <td>Y</td>\n",
              "            <td>482.4387931</td>\n",
              "            <td>1257.802716</td>\n",
              "            <td>29.14576036</td>\n",
              "            <td>1.3399191590000001</td>\n",
              "            <td>27.79576662</td>\n",
              "            <td>646.428982</td>\n",
              "            <td>34961.59076</td>\n",
              "        </tr>\n",
              "    </tbody>\n",
              "</table>"
            ],
            "text/plain": [
              "[(929, 'SOUTHERN DIVISION', 'MOROTO', 3272, 2121209, 'Y', 114.7955689, 0.0, 0.17139046100000002, 0.17139046100000002, 0.0, 19.67486547, 0.0),\n",
              " (928, 'NORTHERN DIVISION', 'MOROTO', 7161, 2738777, 'Y', 131.9776979, 241.53842680000002, 0.322315707, 0.130940756, 0.19137495100000002, 17.28125956, 46.22440465),\n",
              " (979, 'NAKAPIRIPIRIT TOWN COUNCIL', 'NAKAPIRIPIRIT', 1418, 4673094, 'Y', 482.4387931, 1257.802716, 29.14576036, 1.3399191590000001, 27.79576662, 646.428982, 34961.59076)]"
            ]
          },
          "metadata": {
            "tags": []
          },
          "execution_count": 18
        }
      ]
    },
    {
      "cell_type": "code",
      "metadata": {
        "colab": {
          "base_uri": "https://localhost:8080/",
          "height": 132
        },
        "id": "eqlC5UrOOJSr",
        "outputId": "5e81e193-1104-4a1e-861f-a2a2bb00de0e"
      },
      "source": [
        "# Select only the Sub counties from the Moroto district, \n",
        "# order them alphabetically and show their production of sorghum\n",
        "%%sql\n",
        "SELECT SUBCOUNTY_NAME FROM crops_grown_in_uganda\n",
        "WHERE DISTRICT_NAME = \"MOROTO\" \n",
        "ORDER BY SUBCOUNTY_NAME ASC LIMIT 3;"
      ],
      "execution_count": null,
      "outputs": [
        {
          "output_type": "stream",
          "text": [
            " * sqlite://\n",
            "Done.\n"
          ],
          "name": "stdout"
        },
        {
          "output_type": "execute_result",
          "data": {
            "text/html": [
              "<table>\n",
              "    <thead>\n",
              "        <tr>\n",
              "            <th>SUBCOUNTY_NAME</th>\n",
              "        </tr>\n",
              "    </thead>\n",
              "    <tbody>\n",
              "        <tr>\n",
              "            <td>KATIKEKILE</td>\n",
              "        </tr>\n",
              "        <tr>\n",
              "            <td>NADUNGET</td>\n",
              "        </tr>\n",
              "        <tr>\n",
              "            <td>NORTHERN DIVISION</td>\n",
              "        </tr>\n",
              "    </tbody>\n",
              "</table>"
            ],
            "text/plain": [
              "[('KATIKEKILE',), ('NADUNGET',), ('NORTHERN DIVISION',)]"
            ]
          },
          "metadata": {
            "tags": []
          },
          "execution_count": 24
        }
      ]
    },
    {
      "cell_type": "code",
      "metadata": {
        "colab": {
          "base_uri": "https://localhost:8080/",
          "height": 132
        },
        "id": "wXUHN6KmPW-o",
        "outputId": "307b059c-ba96-42c1-aa74-a8c54e5be4eb"
      },
      "source": [
        "# Compute the total Maize production per District.\n",
        "%%sql\n",
        "SELECT  DISTRICT_NAME, M_Prod_Tot FROM crops_grown_in_uganda LIMIT 3;"
      ],
      "execution_count": null,
      "outputs": [
        {
          "output_type": "stream",
          "text": [
            " * sqlite://\n",
            "Done.\n"
          ],
          "name": "stdout"
        },
        {
          "output_type": "execute_result",
          "data": {
            "text/html": [
              "<table>\n",
              "    <thead>\n",
              "        <tr>\n",
              "            <th>DISTRICT_NAME</th>\n",
              "            <th>M_Prod_Tot</th>\n",
              "        </tr>\n",
              "    </thead>\n",
              "    <tbody>\n",
              "        <tr>\n",
              "            <td>KOTIDO</td>\n",
              "            <td>600723.8929</td>\n",
              "        </tr>\n",
              "        <tr>\n",
              "            <td>KOTIDO</td>\n",
              "            <td>959201.3825</td>\n",
              "        </tr>\n",
              "        <tr>\n",
              "            <td>KOTIDO</td>\n",
              "            <td>9991.488268000001</td>\n",
              "        </tr>\n",
              "    </tbody>\n",
              "</table>"
            ],
            "text/plain": [
              "[('KOTIDO', 600723.8929),\n",
              " ('KOTIDO', 959201.3825),\n",
              " ('KOTIDO', 9991.488268000001)]"
            ]
          },
          "metadata": {
            "tags": []
          },
          "execution_count": 25
        }
      ]
    },
    {
      "cell_type": "code",
      "metadata": {
        "colab": {
          "base_uri": "https://localhost:8080/",
          "height": 212
        },
        "id": "Fvj-bt-uP7vo",
        "outputId": "09305ff4-f9ec-4916-dae4-18fa9398b777"
      },
      "source": [
        "# Compute the number of Sub counties \n",
        "# where Maize is produced and the total Maize production per District.\n",
        "%%sql\n",
        "SELECT SUBCOUNTY_NAME, COUNT(SUBCOUNTY_NAME), DISTRICT_NAME,  M_Yield_Ha \n",
        "FROM crops_grown_in_uganda WHERE M_Yield_Ha IS NOT NULL\n",
        "GROUP BY DISTRICT_NAME\n",
        ";"
      ],
      "execution_count": null,
      "outputs": [
        {
          "output_type": "stream",
          "text": [
            " * sqlite://\n",
            "Done.\n"
          ],
          "name": "stdout"
        },
        {
          "output_type": "execute_result",
          "data": {
            "text/html": [
              "<table>\n",
              "    <thead>\n",
              "        <tr>\n",
              "            <th>SUBCOUNTY_NAME</th>\n",
              "            <th>COUNT(SUBCOUNTY_NAME)</th>\n",
              "            <th>DISTRICT_NAME</th>\n",
              "            <th>M_Yield_Ha</th>\n",
              "        </tr>\n",
              "    </thead>\n",
              "    <tbody>\n",
              "        <tr>\n",
              "            <td>NYAKWAE</td>\n",
              "            <td>6</td>\n",
              "            <td>ABIM</td>\n",
              "            <td>779.2250311</td>\n",
              "        </tr>\n",
              "        <tr>\n",
              "            <td>AMUDAT TOWN COUNCIL</td>\n",
              "            <td>4</td>\n",
              "            <td>AMUDAT</td>\n",
              "            <td>861.2084912</td>\n",
              "        </tr>\n",
              "        <tr>\n",
              "            <td>SIDOK</td>\n",
              "            <td>14</td>\n",
              "            <td>KAABONG</td>\n",
              "            <td>1396.9914939999999</td>\n",
              "        </tr>\n",
              "        <tr>\n",
              "            <td>RENGEN</td>\n",
              "            <td>6</td>\n",
              "            <td>KOTIDO</td>\n",
              "            <td>1047.180128</td>\n",
              "        </tr>\n",
              "        <tr>\n",
              "            <td>RUPA</td>\n",
              "            <td>6</td>\n",
              "            <td>MOROTO</td>\n",
              "            <td>699.3343089</td>\n",
              "        </tr>\n",
              "        <tr>\n",
              "            <td>MORUITA</td>\n",
              "            <td>8</td>\n",
              "            <td>NAKAPIRIPIRIT</td>\n",
              "            <td>1248.955812</td>\n",
              "        </tr>\n",
              "        <tr>\n",
              "            <td>LOKOPO</td>\n",
              "            <td>8</td>\n",
              "            <td>NAPAK</td>\n",
              "            <td>748.8298623</td>\n",
              "        </tr>\n",
              "    </tbody>\n",
              "</table>"
            ],
            "text/plain": [
              "[('NYAKWAE', 6, 'ABIM', 779.2250311),\n",
              " ('AMUDAT TOWN COUNCIL', 4, 'AMUDAT', 861.2084912),\n",
              " ('SIDOK', 14, 'KAABONG', 1396.9914939999999),\n",
              " ('RENGEN', 6, 'KOTIDO', 1047.180128),\n",
              " ('RUPA', 6, 'MOROTO', 699.3343089),\n",
              " ('MORUITA', 8, 'NAKAPIRIPIRIT', 1248.955812),\n",
              " ('LOKOPO', 8, 'NAPAK', 748.8298623)]"
            ]
          },
          "metadata": {
            "tags": []
          },
          "execution_count": 26
        }
      ]
    },
    {
      "cell_type": "code",
      "metadata": {
        "colab": {
          "base_uri": "https://localhost:8080/",
          "height": 169
        },
        "id": "0sTztQHBZZn9",
        "outputId": "c9c0d5d0-6b02-484a-f433-e4816cb21a42"
      },
      "source": [
        "%%sql\n",
        "SELECT * FROM crops_grown_in_uganda LIMIT 3;"
      ],
      "execution_count": null,
      "outputs": [
        {
          "output_type": "stream",
          "text": [
            " * sqlite://\n",
            "Done.\n"
          ],
          "name": "stdout"
        },
        {
          "output_type": "execute_result",
          "data": {
            "text/html": [
              "<table>\n",
              "    <thead>\n",
              "        <tr>\n",
              "            <th>OBJECTID</th>\n",
              "            <th>SUBCOUNTY_NAME</th>\n",
              "            <th>DISTRICT_NAME</th>\n",
              "            <th>POP</th>\n",
              "            <th>Area</th>\n",
              "            <th>Karamoja</th>\n",
              "            <th>S_Yield_Ha</th>\n",
              "            <th>M_Yield_Ha</th>\n",
              "            <th>Crop_Area_Ha</th>\n",
              "            <th>S_Area_Ha</th>\n",
              "            <th>M_Area_Ha</th>\n",
              "            <th>S_Prod_Tot</th>\n",
              "            <th>M_Prod_Tot</th>\n",
              "        </tr>\n",
              "    </thead>\n",
              "    <tbody>\n",
              "        <tr>\n",
              "            <td>263</td>\n",
              "            <td>KACHERI</td>\n",
              "            <td>KOTIDO</td>\n",
              "            <td>17244</td>\n",
              "            <td>1067176155</td>\n",
              "            <td>Y</td>\n",
              "            <td>354.20741069999997</td>\n",
              "            <td>1137.467019</td>\n",
              "            <td>7023.533691</td>\n",
              "            <td>6434.342449</td>\n",
              "            <td>528.1242294</td>\n",
              "            <td>2279091.779</td>\n",
              "            <td>600723.8929</td>\n",
              "        </tr>\n",
              "        <tr>\n",
              "            <td>264</td>\n",
              "            <td>KOTIDO</td>\n",
              "            <td>KOTIDO</td>\n",
              "            <td>52771</td>\n",
              "            <td>597575188</td>\n",
              "            <td>Y</td>\n",
              "            <td>367.89052319999996</td>\n",
              "            <td>1162.9966869999998</td>\n",
              "            <td>13587.990759999999</td>\n",
              "            <td>12455.59264</td>\n",
              "            <td>824.7670809</td>\n",
              "            <td>4582294.492</td>\n",
              "            <td>959201.3825</td>\n",
              "        </tr>\n",
              "        <tr>\n",
              "            <td>265</td>\n",
              "            <td>KOTIDO TOWN COUNCIL</td>\n",
              "            <td>KOTIDO</td>\n",
              "            <td>27389</td>\n",
              "            <td>23972401</td>\n",
              "            <td>Y</td>\n",
              "            <td>369.3141771</td>\n",
              "            <td>1167.005832</td>\n",
              "            <td>1656.5318550000002</td>\n",
              "            <td>1520.322052</td>\n",
              "            <td>8.561643817</td>\n",
              "            <td>561476.4874</td>\n",
              "            <td>9991.488268000001</td>\n",
              "        </tr>\n",
              "    </tbody>\n",
              "</table>"
            ],
            "text/plain": [
              "[(263, 'KACHERI', 'KOTIDO', 17244, 1067176155, 'Y', 354.20741069999997, 1137.467019, 7023.533691, 6434.342449, 528.1242294, 2279091.779, 600723.8929),\n",
              " (264, 'KOTIDO', 'KOTIDO', 52771, 597575188, 'Y', 367.89052319999996, 1162.9966869999998, 13587.990759999999, 12455.59264, 824.7670809, 4582294.492, 959201.3825),\n",
              " (265, 'KOTIDO TOWN COUNCIL', 'KOTIDO', 27389, 23972401, 'Y', 369.3141771, 1167.005832, 1656.5318550000002, 1520.322052, 8.561643817, 561476.4874, 9991.488268000001)]"
            ]
          },
          "metadata": {
            "tags": []
          },
          "execution_count": 27
        }
      ]
    },
    {
      "cell_type": "code",
      "metadata": {
        "id": "Nnm9lJn8YR6o",
        "colab": {
          "base_uri": "https://localhost:8080/",
          "height": 172
        },
        "outputId": "f5c6d8bc-dae7-4771-adcf-8b9b9c6562d6"
      },
      "source": [
        "# Compute the overall Crop area in all Sub counties\n",
        "# where population is over 20000.\n",
        "%%sql \n",
        "SELECT SUBCOUNTY_NAME, POP, Crop_Area_Ha FROM crops_grown_in_uganda\n",
        "WHERE POP > 20000 LIMIT 5;"
      ],
      "execution_count": null,
      "outputs": [
        {
          "output_type": "stream",
          "text": [
            " * sqlite://\n",
            "Done.\n"
          ],
          "name": "stdout"
        },
        {
          "output_type": "execute_result",
          "data": {
            "text/html": [
              "<table>\n",
              "    <thead>\n",
              "        <tr>\n",
              "            <th>SUBCOUNTY_NAME</th>\n",
              "            <th>POP</th>\n",
              "            <th>Crop_Area_Ha</th>\n",
              "        </tr>\n",
              "    </thead>\n",
              "    <tbody>\n",
              "        <tr>\n",
              "            <td>KOTIDO</td>\n",
              "            <td>52771</td>\n",
              "            <td>13587.990759999999</td>\n",
              "        </tr>\n",
              "        <tr>\n",
              "            <td>KOTIDO TOWN COUNCIL</td>\n",
              "            <td>27389</td>\n",
              "            <td>1656.5318550000002</td>\n",
              "        </tr>\n",
              "        <tr>\n",
              "            <td>NAKAPERIMORU</td>\n",
              "            <td>38775</td>\n",
              "            <td>7087.823334000001</td>\n",
              "        </tr>\n",
              "        <tr>\n",
              "            <td>PANYANGARA</td>\n",
              "            <td>65704</td>\n",
              "            <td>10398.24939</td>\n",
              "        </tr>\n",
              "        <tr>\n",
              "            <td>RENGEN</td>\n",
              "            <td>41273</td>\n",
              "            <td>13278.52043</td>\n",
              "        </tr>\n",
              "    </tbody>\n",
              "</table>"
            ],
            "text/plain": [
              "[('KOTIDO', 52771, 13587.990759999999),\n",
              " ('KOTIDO TOWN COUNCIL', 27389, 1656.5318550000002),\n",
              " ('NAKAPERIMORU', 38775, 7087.823334000001),\n",
              " ('PANYANGARA', 65704, 10398.24939),\n",
              " ('RENGEN', 41273, 13278.52043)]"
            ]
          },
          "metadata": {
            "tags": []
          },
          "execution_count": 49
        }
      ]
    },
    {
      "cell_type": "code",
      "metadata": {
        "id": "4GKfLwM3ztA5",
        "colab": {
          "base_uri": "https://localhost:8080/",
          "height": 172
        },
        "outputId": "4daeccb2-909a-4232-ad4e-14ae7fbcdb12"
      },
      "source": [
        "# Sort the Maize production in descending order by Districts,\n",
        "# only taking into account Sub counties where Maize area is larger than Sorghum\n",
        "# area, and display the number of Sub counties per district matching that criteria.\n",
        "# Dataset Description\n",
        "%%sql\n",
        "SELECT SUBCOUNTY_NAME, COUNT(SUBCOUNTY_NAME), DISTRICT_NAME FROM crops_grown_in_uganda\n",
        "WHERE M_Area_Ha > S_Area_Ha\n",
        "GROUP BY DISTRICT_NAME\n",
        "ORDER BY DISTRICT_NAME DESC;"
      ],
      "execution_count": 66,
      "outputs": [
        {
          "output_type": "stream",
          "text": [
            " * sqlite://\n",
            "Done.\n"
          ],
          "name": "stdout"
        },
        {
          "output_type": "execute_result",
          "data": {
            "text/html": [
              "<table>\n",
              "    <thead>\n",
              "        <tr>\n",
              "            <th>SUBCOUNTY_NAME</th>\n",
              "            <th>COUNT(SUBCOUNTY_NAME)</th>\n",
              "            <th>DISTRICT_NAME</th>\n",
              "        </tr>\n",
              "    </thead>\n",
              "    <tbody>\n",
              "        <tr>\n",
              "            <td>NAPAK TOWN COUNCIL</td>\n",
              "            <td>2</td>\n",
              "            <td>NAPAK</td>\n",
              "        </tr>\n",
              "        <tr>\n",
              "            <td>MORUITA</td>\n",
              "            <td>3</td>\n",
              "            <td>NAKAPIRIPIRIT</td>\n",
              "        </tr>\n",
              "        <tr>\n",
              "            <td>NORTHERN DIVISION</td>\n",
              "            <td>3</td>\n",
              "            <td>MOROTO</td>\n",
              "        </tr>\n",
              "        <tr>\n",
              "            <td>NAPORE (KARENGA)</td>\n",
              "            <td>3</td>\n",
              "            <td>KAABONG</td>\n",
              "        </tr>\n",
              "        <tr>\n",
              "            <td>AMUDAT</td>\n",
              "            <td>1</td>\n",
              "            <td>AMUDAT</td>\n",
              "        </tr>\n",
              "    </tbody>\n",
              "</table>"
            ],
            "text/plain": [
              "[('NAPAK TOWN COUNCIL', 2, 'NAPAK'),\n",
              " ('MORUITA', 3, 'NAKAPIRIPIRIT'),\n",
              " ('NORTHERN DIVISION', 3, 'MOROTO'),\n",
              " ('NAPORE (KARENGA)', 3, 'KAABONG'),\n",
              " ('AMUDAT', 1, 'AMUDAT')]"
            ]
          },
          "metadata": {
            "tags": []
          },
          "execution_count": 66
        }
      ]
    },
    {
      "cell_type": "code",
      "metadata": {
        "colab": {
          "base_uri": "https://localhost:8080/",
          "height": 132
        },
        "id": "aemN0v3H0Ey0",
        "outputId": "4f64a49a-98fa-4d6e-e6f7-79433f22ac1b"
      },
      "source": [
        "%%sql \n",
        "SELECT * FROM crops_grown_in_uganda  LIMIT 2;"
      ],
      "execution_count": null,
      "outputs": [
        {
          "output_type": "stream",
          "text": [
            " * sqlite://\n",
            "Done.\n"
          ],
          "name": "stdout"
        },
        {
          "output_type": "execute_result",
          "data": {
            "text/html": [
              "<table>\n",
              "    <thead>\n",
              "        <tr>\n",
              "            <th>OBJECTID</th>\n",
              "            <th>SUBCOUNTY_NAME</th>\n",
              "            <th>DISTRICT_NAME</th>\n",
              "            <th>POP</th>\n",
              "            <th>Area</th>\n",
              "            <th>Karamoja</th>\n",
              "            <th>S_Yield_Ha</th>\n",
              "            <th>M_Yield_Ha</th>\n",
              "            <th>Crop_Area_Ha</th>\n",
              "            <th>S_Area_Ha</th>\n",
              "            <th>M_Area_Ha</th>\n",
              "            <th>S_Prod_Tot</th>\n",
              "            <th>M_Prod_Tot</th>\n",
              "            <th>Prod_Tot</th>\n",
              "        </tr>\n",
              "    </thead>\n",
              "    <tbody>\n",
              "        <tr>\n",
              "            <td>263</td>\n",
              "            <td>KACHERI</td>\n",
              "            <td>KOTIDO</td>\n",
              "            <td>17244</td>\n",
              "            <td>1067176155</td>\n",
              "            <td>Y</td>\n",
              "            <td>354.20741069999997</td>\n",
              "            <td>1137.467019</td>\n",
              "            <td>7023.533691</td>\n",
              "            <td>6434.342449</td>\n",
              "            <td>528.1242294</td>\n",
              "            <td>2279091.779</td>\n",
              "            <td>600723.8929</td>\n",
              "            <td>None</td>\n",
              "        </tr>\n",
              "        <tr>\n",
              "            <td>264</td>\n",
              "            <td>KOTIDO</td>\n",
              "            <td>KOTIDO</td>\n",
              "            <td>52771</td>\n",
              "            <td>597575188</td>\n",
              "            <td>Y</td>\n",
              "            <td>367.89052319999996</td>\n",
              "            <td>1162.9966869999998</td>\n",
              "            <td>13587.990759999999</td>\n",
              "            <td>12455.59264</td>\n",
              "            <td>824.7670809</td>\n",
              "            <td>4582294.492</td>\n",
              "            <td>959201.3825</td>\n",
              "            <td>None</td>\n",
              "        </tr>\n",
              "    </tbody>\n",
              "</table>"
            ],
            "text/plain": [
              "[(263, 'KACHERI', 'KOTIDO', 17244, 1067176155, 'Y', 354.20741069999997, 1137.467019, 7023.533691, 6434.342449, 528.1242294, 2279091.779, 600723.8929, None),\n",
              " (264, 'KOTIDO', 'KOTIDO', 52771, 597575188, 'Y', 367.89052319999996, 1162.9966869999998, 13587.990759999999, 12455.59264, 824.7670809, 4582294.492, 959201.3825, None)]"
            ]
          },
          "metadata": {
            "tags": []
          },
          "execution_count": 48
        }
      ]
    }
  ]
}